{
 "cells": [
  {
   "cell_type": "code",
   "execution_count": 1,
   "metadata": {},
   "outputs": [],
   "source": [
    "# %pip install stable-baselines3  protobuf==3.20.*"
   ]
  },
  {
   "cell_type": "code",
   "execution_count": 2,
   "metadata": {},
   "outputs": [],
   "source": [
    "# %pip install protobuf==3.20.*"
   ]
  },
  {
   "cell_type": "code",
   "execution_count": 3,
   "metadata": {},
   "outputs": [],
   "source": [
    "# %pip install mss pytesseract pyautodirect"
   ]
  },
  {
   "cell_type": "code",
   "execution_count": 4,
   "metadata": {},
   "outputs": [],
   "source": [
    "# %pip install PyDirectInput"
   ]
  },
  {
   "cell_type": "code",
   "execution_count": 5,
   "metadata": {},
   "outputs": [],
   "source": [
    "from mss import mss\n",
    "import pytesseract\n",
    "import pydirectinput\n",
    "import time\n",
    "import numpy as np\n",
    "import cv2\n",
    "import matplotlib.pyplot as plt\n",
    "from gym import Env\n",
    "from gym.spaces import Discrete, Box\n"
   ]
  },
  {
   "cell_type": "code",
   "execution_count": 6,
   "metadata": {},
   "outputs": [],
   "source": [
    "class WebGame(Env):\n",
    "    def __init__(self):\n",
    "        #subclass model\n",
    "        super().__init__()\n",
    "        #setup spaces\n",
    "        self.observation_space = Box(low=0, high=255, shape=(1, 80,80), dtype=np.uint8)\n",
    "        self.action_space = Discrete(65)\n",
    "        self.cap = mss()\n",
    "        self.monitor = self.cap.monitors[1]\n",
    "\n",
    "        self.game_location = {\"top\": self.monitor[\"top\"] + int(self.monitor[\"height\"] * 0.1), \"left\": self.monitor[\"left\"] + int(self.monitor[\"width\"] * 0.25), \"width\": int(self.monitor[\"width\"] * 0.5), \"height\": int(self.monitor[\"height\"] * 0.8)}\n",
    "        self.mon = {'top': 780, 'left': 1430, 'width': 250, 'height': 100}\n",
    "        self.play_again = {'top': 878, 'left': 1560, 'width': 200, 'height': 75}\n",
    "\n",
    "\n",
    "\n",
    "    def step(self, action):        \n",
    "        action_map = {\n",
    "            #right click\n",
    "            0: 'dash',\n",
    "            1: 'no_op',\n",
    "            0: 'dash',\n",
    "            1: 'no_op',\n",
    "            2: (580, 258),\n",
    "            3: (773, 258),\n",
    "            4: (959, 258),\n",
    "            5: (1145, 258),\n",
    "            6: (1340, 258),\n",
    "            7: (580, 540),\n",
    "            8: (773, 540),\n",
    "            9: (959, 540),\n",
    "            10: (1145, 540),\n",
    "            11: (1340, 540),\n",
    "            12: (580, 822),\n",
    "            13: (773, 822),\n",
    "            14: (959, 822),\n",
    "            15: (1145, 822),\n",
    "            16: (1340, 822),\n",
    "            17: (580, 258),\n",
    "            18: (773, 258),\n",
    "            19: (959, 258),\n",
    "            20: (1145, 258),\n",
    "            21: (1340, 258),\n",
    "            22: (580, 540),\n",
    "            23: (773, 540),\n",
    "            24: (959, 540),\n",
    "            25: (1145, 540),\n",
    "            26: (1340, 540),\n",
    "            27: (580, 822),\n",
    "            28: (773, 822),\n",
    "            29: (959, 822),\n",
    "            30: (1145, 822),\n",
    "            31: (1340, 822)\n",
    "        }\n",
    "        if action == 0:\n",
    "            pydirectinput.click(button='left')\n",
    "        elif action != 1:\n",
    "            pydirectinput.moveTo(x=int(action_map[action][0]), y=int(action_map[action][1]))\n",
    "\n",
    "        done = self.get_done()\n",
    "        new_observation = self.get_observation()\n",
    "        reward = 1\n",
    "        info = {}\n",
    "        return new_observation, reward, done, info\n",
    "        \n",
    "        \n",
    "        \n",
    "    def render(self):\n",
    "        cv2.imshow('frame', np.array(self.cap.grab(self.game_location))[:, :, :3])\n",
    "        if cv2.waitKey(1) & 0xFF == ord('q'):\n",
    "            self.close()\n",
    "        \n",
    "        \n",
    "\n",
    "    def reset(self):\n",
    "        #check wheter the game is over\n",
    "        pytesseract.pytesseract.tesseract_cmd = r'C:\\Program Files\\Tesseract-OCR\\tesseract.exe'\n",
    "        \n",
    "        #check play again region\n",
    "        while 1:\n",
    "            play_again_cap = self.cap.grab(self.play_again)\n",
    "            play_again = pytesseract.image_to_string(np.array(play_again_cap)[:, :, :3])\n",
    "            #strip whitespace\n",
    "            play_again = play_again.strip()\n",
    "            \n",
    "            if play_again == 'PLAY AGAIN':\n",
    "                    \n",
    "                # pyautogui.click(x=1640, y=919)\n",
    "                pydirectinput.click(x=1640, y=919)\n",
    "                time.sleep(1)\n",
    "                # pyautogui.click(x=963, y=700)\n",
    "                pydirectinput.click(x=963, y=700)\n",
    "            return self.get_observation()\n",
    "            break\n",
    "            \n",
    "    def get_observation(self):\n",
    "        ss = self.cap.grab(self.game_location)\n",
    "        raw =  np.array(ss)[:, :, :3].astype(np.uint8)\n",
    "        gray = cv2.cvtColor(raw, cv2.COLOR_BGR2GRAY)\n",
    "        resized = cv2.resize(gray, (80, 80))\n",
    "        channel = np.reshape(resized, (1, 80, 80))        \n",
    "        \n",
    "        \n",
    "        return channel\n",
    "\n",
    "    \n",
    "    def close(self):\n",
    "        cv2.destroyAllWindows()\n",
    "    \n",
    "    def get_done(self):\n",
    "        #CAPTURE play again region\n",
    "        done_cap = np.array(self.cap.grab(self.play_again))[:, :, :3]\n",
    "        done_strings = 'PLAY AGAIN'\n",
    "        done = False\n",
    "        res = pytesseract.image_to_string(done_cap)\n",
    "        res = res.strip()\n",
    "        if res == done_strings:\n",
    "            done = True\n",
    "\n",
    "        return done"
   ]
  },
  {
   "cell_type": "code",
   "execution_count": 7,
   "metadata": {},
   "outputs": [],
   "source": [
    "env = WebGame()"
   ]
  },
  {
   "cell_type": "code",
   "execution_count": 8,
   "metadata": {},
   "outputs": [
    {
     "data": {
      "text/plain": [
       "11"
      ]
     },
     "execution_count": 8,
     "metadata": {},
     "output_type": "execute_result"
    }
   ],
   "source": [
    "#get a sample action\n",
    "env.action_space.sample()"
   ]
  },
  {
   "cell_type": "code",
   "execution_count": 9,
   "metadata": {},
   "outputs": [
    {
     "data": {
      "text/plain": [
       "<matplotlib.image.AxesImage at 0x2b465df3fa0>"
      ]
     },
     "execution_count": 9,
     "metadata": {},
     "output_type": "execute_result"
    },
    {
     "data": {
      "image/png": "[encoded data removed]",
      "text/plain": [
       "<Figure size 640x480 with 1 Axes>"
      ]
     },
     "metadata": {},
     "output_type": "display_data"
    }
   ],
   "source": [
    "env.get_observation()\n",
    "#matplotlib inline\n",
    "import matplotlib.pyplot as plt\n",
    "plt.imshow(env.get_observation()[0], cmap='gray')"
   ]
  },
  {
   "cell_type": "code",
   "execution_count": 10,
   "metadata": {},
   "outputs": [
    {
     "name": "stderr",
     "output_type": "stream",
     "text": [
      "c:\\Python310\\lib\\site-packages\\tqdm\\auto.py:22: TqdmWarning: IProgress not found. Please update jupyter and ipywidgets. See https://ipywidgets.readthedocs.io/en/stable/user_install.html\n",
      "  from .autonotebook import tqdm as notebook_tqdm\n"
     ]
    }
   ],
   "source": [
    "#CREATE A CALLBACK TO SAVE THE MODEL\n",
    "import os\n",
    "from stable_baselines3.common.callbacks import BaseCallback\n",
    "from stable_baselines3.common import env_checker\n"
   ]
  },
  {
   "cell_type": "code",
   "execution_count": 11,
   "metadata": {},
   "outputs": [],
   "source": [
    "env_checker.check_env(env)"
   ]
  },
  {
   "cell_type": "code",
   "execution_count": 12,
   "metadata": {},
   "outputs": [],
   "source": [
    "class TrainAndLoggingCallback(BaseCallback):\n",
    "\n",
    "    def __init__(self, check_freq, save_path, verbose=1):\n",
    "        super(TrainAndLoggingCallback, self).__init__(verbose)\n",
    "        self.check_freq = check_freq\n",
    "        self.save_path = save_path\n",
    "\n",
    "    def _init_callback(self):\n",
    "        if self.save_path is not None:\n",
    "            os.makedirs(self.save_path, exist_ok=True)\n",
    "\n",
    "    def _on_step(self):\n",
    "        if self.n_calls % self.check_freq == 0:\n",
    "            model_path = os.path.join(self.save_path, 'best_model_{}'.format(self.n_calls))\n",
    "            self.model.save(model_path)\n",
    "\n",
    "        return True"
   ]
  },
  {
   "cell_type": "code",
   "execution_count": 13,
   "metadata": {},
   "outputs": [],
   "source": [
    "CHECKPOINT_DIR = './train/'\n",
    "LOG_DIR = './logs/'"
   ]
  },
  {
   "cell_type": "code",
   "execution_count": 14,
   "metadata": {},
   "outputs": [],
   "source": [
    "callback = TrainAndLoggingCallback(check_freq=1000, save_path=CHECKPOINT_DIR)"
   ]
  },
  {
   "attachments": {},
   "cell_type": "markdown",
   "metadata": {},
   "source": [
    "## 3.2 Build DQN and Train"
   ]
  },
  {
   "cell_type": "code",
   "execution_count": null,
   "metadata": {},
   "outputs": [],
   "source": []
  },
  {
   "cell_type": "code",
   "execution_count": 15,
   "metadata": {},
   "outputs": [],
   "source": [
    "from stable_baselines3 import DQN\n",
    "from stable_baselines3.common.monitor import Monitor\n",
    "from stable_baselines3.common.vec_env import DummyVecEnv, VecFrameStack"
   ]
  },
  {
   "cell_type": "code",
   "execution_count": 16,
   "metadata": {},
   "outputs": [],
   "source": [
    "env = WebGame()"
   ]
  },
  {
   "cell_type": "code",
   "execution_count": 17,
   "metadata": {},
   "outputs": [
    {
     "name": "stdout",
     "output_type": "stream",
     "text": [
      "Using cuda device\n",
      "Wrapping the env with a `Monitor` wrapper\n",
      "Wrapping the env in a DummyVecEnv.\n"
     ]
    },
    {
     "name": "stderr",
     "output_type": "stream",
     "text": [
      "c:\\Python310\\lib\\site-packages\\stable_baselines3\\common\\buffers.py:229: UserWarning: This system does not have apparently enough memory to store the complete replay buffer 7.69GB > 7.04GB\n",
      "  warnings.warn(\n"
     ]
    }
   ],
   "source": [
    "model = DQN('CnnPolicy', env, tensorboard_log=LOG_DIR, verbose=1, buffer_size=600000, learning_starts=1000)"
   ]
  },
  {
   "cell_type": "code",
   "execution_count": 18,
   "metadata": {},
   "outputs": [
    {
     "name": "stdout",
     "output_type": "stream",
     "text": [
      "Logging to ./logs/DQN_19\n",
      "----------------------------------\n",
      "| rollout/            |          |\n",
      "|    ep_len_mean      | 46.2     |\n",
      "|    ep_rew_mean      | 46.2     |\n",
      "|    exploration_rate | 0.965    |\n",
      "| time/               |          |\n",
      "|    episodes         | 4        |\n",
      "|    fps              | 3        |\n",
      "|    time_elapsed     | 58       |\n",
      "|    total_timesteps  | 185      |\n",
      "----------------------------------\n"
     ]
    }
   ],
   "source": [
    "model.learn(total_timesteps=50000, callback=callback)"
   ]
  },
  {
   "cell_type": "code",
   "execution_count": null,
   "metadata": {},
   "outputs": [],
   "source": [
    "# model.load('train_first/best_mode l_50000') "
   ]
  },
  {
   "attachments": {},
   "cell_type": "markdown",
   "metadata": {},
   "source": [
    "# 4. Test out Model"
   ]
  },
  {
   "cell_type": "code",
   "execution_count": null,
   "metadata": {},
   "outputs": [],
   "source": [
    "# for episode in range(5): \n",
    "# obs = env.reset()\n",
    "# done = False\n",
    "# total_reward = 0\n",
    "# while not done: \n",
    "#     action, _ = model.predict(obs)\n",
    "#     obs, reward, done, info = env.step(int(action))\n",
    "#     time.sleep(0.01)\n",
    "#     total_reward += reward\n",
    "# print('Total Reward for episode {} is {}'.format(episode, total_reward))\n",
    "# time.sleep(2)"
   ]
  }
 ],
 "metadata": {
  "kernelspec": {
   "display_name": "Python 3",
   "language": "python",
   "name": "python3"
  },
  "language_info": {
   "codemirror_mode": {
    "name": "ipython",
    "version": 3
   },
   "file_extension": ".py",
   "mimetype": "text/x-python",
   "name": "python",
   "nbconvert_exporter": "python",
   "pygments_lexer": "ipython3",
   "version": "3.10.5"
  },
  "orig_nbformat": 4,
  "vscode": {
   "interpreter": {
    "hash": "369f2c481f4da34e4445cda3fffd2e751bd1c4d706f27375911949ba6bb62e1c"
   }
  }
 },
 "nbformat": 4,
 "nbformat_minor": 2
}
